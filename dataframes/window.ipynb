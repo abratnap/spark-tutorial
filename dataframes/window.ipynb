{
 "cells": [
  {
   "cell_type": "code",
   "execution_count": 1,
   "metadata": {},
   "outputs": [
    {
     "data": {
      "text/html": [
       "\n",
       "            <div>\n",
       "                <p><b>SparkSession - hive</b></p>\n",
       "                \n",
       "        <div>\n",
       "            <p><b>SparkContext</b></p>\n",
       "\n",
       "            <p><a href=\"http://abhays-mbp-2:4040\">Spark UI</a></p>\n",
       "\n",
       "            <dl>\n",
       "              <dt>Version</dt>\n",
       "                <dd><code>v2.4.3</code></dd>\n",
       "              <dt>Master</dt>\n",
       "                <dd><code>local[*]</code></dd>\n",
       "              <dt>AppName</dt>\n",
       "                <dd><code>PySparkShell</code></dd>\n",
       "            </dl>\n",
       "        </div>\n",
       "        \n",
       "            </div>\n",
       "        "
      ],
      "text/plain": [
       "<pyspark.sql.session.SparkSession at 0x116b89f60>"
      ]
     },
     "execution_count": 1,
     "metadata": {},
     "output_type": "execute_result"
    }
   ],
   "source": [
    "spark"
   ]
  },
  {
   "cell_type": "code",
   "execution_count": 2,
   "metadata": {},
   "outputs": [],
   "source": [
    "import sys\n",
    "from pyspark.sql.window import Window\n",
    "from pyspark.sql.functions import *\n"
   ]
  },
  {
   "cell_type": "code",
   "execution_count": 4,
   "metadata": {},
   "outputs": [],
   "source": [
    "revenue_df = spark.read.format(\"csv\")\\\n",
    "              .option(\"header\", \"true\")\\\n",
    "              .option(\"inferSchema\", \"true\")\\\n",
    "              .load(\"../data/product-revenue/*.csv\")"
   ]
  },
  {
   "cell_type": "code",
   "execution_count": 5,
   "metadata": {},
   "outputs": [
    {
     "name": "stdout",
     "output_type": "stream",
     "text": [
      "root\n",
      " |-- product: string (nullable = true)\n",
      " |-- category: string (nullable = true)\n",
      " |-- revenue: integer (nullable = true)\n",
      "\n"
     ]
    }
   ],
   "source": [
    "revenue_df.printSchema()"
   ]
  },
  {
   "cell_type": "code",
   "execution_count": 6,
   "metadata": {},
   "outputs": [
    {
     "name": "stdout",
     "output_type": "stream",
     "text": [
      "+----------+----------+-------+\n",
      "|   product|  category|revenue|\n",
      "+----------+----------+-------+\n",
      "|      Thin|Cell Phone|   6000|\n",
      "|    Normal|    Tablet|   1500|\n",
      "|      Mini|    Tablet|   5500|\n",
      "|Ultra thin|Cell Phone|   5000|\n",
      "| Very thin|Cell Phone|   6000|\n",
      "|       Big|    Tablet|   2500|\n",
      "|  Bendable|Cell Phone|   3000|\n",
      "|  Foldable|Cell Phone|   3000|\n",
      "|       Pro|    Tablet|   4500|\n",
      "|      Pro2|    Tablet|   6500|\n",
      "+----------+----------+-------+\n",
      "\n"
     ]
    }
   ],
   "source": [
    "revenue_df.show()"
   ]
  },
  {
   "cell_type": "markdown",
   "metadata": {},
   "source": [
    "### Group Aggregate Functions"
   ]
  },
  {
   "cell_type": "code",
   "execution_count": 7,
   "metadata": {},
   "outputs": [
    {
     "name": "stdout",
     "output_type": "stream",
     "text": [
      "+----------+------------+---------------------+\n",
      "|  category|sum(revenue)|collect_list(product)|\n",
      "+----------+------------+---------------------+\n",
      "|    Tablet|       20500| [Normal, Mini, Bi...|\n",
      "|Cell Phone|       23000| [Thin, Ultra thin...|\n",
      "+----------+------------+---------------------+\n",
      "\n"
     ]
    }
   ],
   "source": [
    "revenue_df.groupBy(\"category\")\\\n",
    "          .agg(sum(\"revenue\"), collect_list(\"product\"))\\\n",
    "          .show()"
   ]
  },
  {
   "cell_type": "markdown",
   "metadata": {},
   "source": [
    "###  Window Aggregate Functions"
   ]
  },
  {
   "cell_type": "markdown",
   "metadata": {},
   "source": [
    "####  What is the difference between the revenue of each product and the revenue of the best-selling product in the same category of that product?"
   ]
  },
  {
   "cell_type": "code",
   "execution_count": 7,
   "metadata": {},
   "outputs": [],
   "source": [
    "windowSpec = Window \\\n",
    "    .partitionBy(revenue_df['category']) \\\n",
    "    .orderBy(revenue_df['revenue'].desc()) \\\n",
    "    .rangeBetween(-sys.maxsize, sys.maxsize)"
   ]
  },
  {
   "cell_type": "code",
   "execution_count": 8,
   "metadata": {},
   "outputs": [],
   "source": [
    "revenue_difference = \\\n",
    "  (max(revenue_df['revenue']).over(windowSpec) - revenue_df['revenue'])"
   ]
  },
  {
   "cell_type": "code",
   "execution_count": 9,
   "metadata": {},
   "outputs": [
    {
     "name": "stdout",
     "output_type": "stream",
     "text": [
      "+----------+----------+-------+------------------+\n",
      "|   product|  category|revenue|revenue_difference|\n",
      "+----------+----------+-------+------------------+\n",
      "|      Pro2|    Tablet|   6500|               0.0|\n",
      "|      Mini|    Tablet|   5500|            1000.0|\n",
      "|       Pro|    Tablet|   4500|            2000.0|\n",
      "|       Big|    Tablet|   2500|            4000.0|\n",
      "|    Normal|    Tablet|   1500|            5000.0|\n",
      "|      Thin|Cell Phone|   6000|               0.0|\n",
      "| Very thin|Cell Phone|   6000|               0.0|\n",
      "|Ultra thin|Cell Phone|   5000|            1000.0|\n",
      "|  Bendable|Cell Phone|   3000|            3000.0|\n",
      "|  Foldable|Cell Phone|   3000|            3000.0|\n",
      "+----------+----------+-------+------------------+\n",
      "\n"
     ]
    }
   ],
   "source": [
    "revenue_df.select(\n",
    "  revenue_df['product'],\n",
    "  revenue_df['category'],\n",
    "  revenue_df['revenue'],\n",
    "  revenue_difference.alias(\"revenue_difference\")).show()"
   ]
  },
  {
   "cell_type": "markdown",
   "metadata": {},
   "source": [
    "### Rollup"
   ]
  },
  {
   "cell_type": "code",
   "execution_count": 31,
   "metadata": {},
   "outputs": [
    {
     "name": "stdout",
     "output_type": "stream",
     "text": [
      "+----------+----------+------------+-------------+\n",
      "|  category|   product|sum(revenue)|grouping_id()|\n",
      "+----------+----------+------------+-------------+\n",
      "|    Tablet|      null|       20500|            1|\n",
      "|Cell Phone| Very thin|        6000|            0|\n",
      "|    Tablet|      Mini|        5500|            0|\n",
      "|      null|      null|       43500|            3|\n",
      "|    Tablet|       Pro|        4500|            0|\n",
      "|Cell Phone|      null|       23000|            1|\n",
      "|Cell Phone|      Thin|        6000|            0|\n",
      "|Cell Phone|  Bendable|        3000|            0|\n",
      "|Cell Phone|  Foldable|        3000|            0|\n",
      "|Cell Phone|Ultra thin|        5000|            0|\n",
      "|    Tablet|       Big|        2500|            0|\n",
      "|    Tablet|    Normal|        1500|            0|\n",
      "|    Tablet|      Pro2|        6500|            0|\n",
      "+----------+----------+------------+-------------+\n",
      "\n"
     ]
    }
   ],
   "source": [
    "revenue_df.rollup( \"category\", \"product\")\\\n",
    "          .agg(sum(\"revenue\"), grouping_id()).show(100)"
   ]
  },
  {
   "cell_type": "markdown",
   "metadata": {},
   "source": [
    "### Cube"
   ]
  },
  {
   "cell_type": "code",
   "execution_count": 30,
   "metadata": {},
   "outputs": [
    {
     "name": "stdout",
     "output_type": "stream",
     "text": [
      "+----------+----------+------------+-------------+\n",
      "|  category|   product|sum(revenue)|grouping_id()|\n",
      "+----------+----------+------------+-------------+\n",
      "|      null|  Bendable|        3000|            2|\n",
      "|      null| Very thin|        6000|            2|\n",
      "|      null|    Normal|        1500|            2|\n",
      "|    Tablet|      null|       20500|            1|\n",
      "|      null|      Mini|        5500|            2|\n",
      "|Cell Phone| Very thin|        6000|            0|\n",
      "|      null|      Pro2|        6500|            2|\n",
      "|    Tablet|      Mini|        5500|            0|\n",
      "|      null|      null|       43500|            3|\n",
      "|    Tablet|       Pro|        4500|            0|\n",
      "|      null|  Foldable|        3000|            2|\n",
      "|      null|       Pro|        4500|            2|\n",
      "|      null|      Thin|        6000|            2|\n",
      "|Cell Phone|      null|       23000|            1|\n",
      "|Cell Phone|      Thin|        6000|            0|\n",
      "|Cell Phone|  Bendable|        3000|            0|\n",
      "|Cell Phone|  Foldable|        3000|            0|\n",
      "|Cell Phone|Ultra thin|        5000|            0|\n",
      "|    Tablet|       Big|        2500|            0|\n",
      "|    Tablet|    Normal|        1500|            0|\n",
      "|      null|       Big|        2500|            2|\n",
      "|    Tablet|      Pro2|        6500|            0|\n",
      "|      null|Ultra thin|        5000|            2|\n",
      "+----------+----------+------------+-------------+\n",
      "\n"
     ]
    }
   ],
   "source": [
    "revenue_df.cube(\"category\", \"product\")\\\n",
    "          .agg(sum(\"revenue\"), grouping_id()).show(100)"
   ]
  },
  {
   "cell_type": "code",
   "execution_count": null,
   "metadata": {},
   "outputs": [],
   "source": []
  }
 ],
 "metadata": {
  "kernelspec": {
   "display_name": "Python 3",
   "language": "python",
   "name": "python3"
  },
  "language_info": {
   "codemirror_mode": {
    "name": "ipython",
    "version": 3
   },
   "file_extension": ".py",
   "mimetype": "text/x-python",
   "name": "python",
   "nbconvert_exporter": "python",
   "pygments_lexer": "ipython3",
   "version": "3.7.3"
  }
 },
 "nbformat": 4,
 "nbformat_minor": 2
}
